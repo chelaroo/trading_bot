{
 "cells": [
  {
   "cell_type": "code",
   "execution_count": 1,
   "id": "0d937e43",
   "metadata": {},
   "outputs": [],
   "source": [
    "import pandas as pd\n",
    "import yfinance as yf\n",
    "import matplotlib.pyplot as plt\n",
    "plt.style.use('seaborn')\n",
    "import numpy as np\n",
    "import scipy.stats as stats\n",
    "from sklearn.preprocessing import MinMaxScaler\n",
    "import tensorflow as tf\n",
    "from tensorflow.keras.preprocessing.sequence import TimeseriesGenerator\n",
    "from tensorflow.keras.models import Sequential\n",
    "from tensorflow.keras.layers import Dense, LSTM, Dropout\n",
    "from sklearn.metrics import mean_squared_error, mean_absolute_error\n",
    "from pickle import dump\n",
    "from binance.client import Client"
   ]
  },
  {
   "cell_type": "code",
   "execution_count": 2,
   "id": "32853b25",
   "metadata": {},
   "outputs": [
    {
     "name": "stdout",
     "output_type": "stream",
     "text": [
      "[*********************100%***********************]  1 of 1 completed\n"
     ]
    },
    {
     "data": {
      "text/html": [
       "<div>\n",
       "<style scoped>\n",
       "    .dataframe tbody tr th:only-of-type {\n",
       "        vertical-align: middle;\n",
       "    }\n",
       "\n",
       "    .dataframe tbody tr th {\n",
       "        vertical-align: top;\n",
       "    }\n",
       "\n",
       "    .dataframe thead th {\n",
       "        text-align: right;\n",
       "    }\n",
       "</style>\n",
       "<table border=\"1\" class=\"dataframe\">\n",
       "  <thead>\n",
       "    <tr style=\"text-align: right;\">\n",
       "      <th></th>\n",
       "      <th>Open</th>\n",
       "      <th>High</th>\n",
       "      <th>Low</th>\n",
       "      <th>Close</th>\n",
       "      <th>Volume</th>\n",
       "    </tr>\n",
       "    <tr>\n",
       "      <th>Date</th>\n",
       "      <th></th>\n",
       "      <th></th>\n",
       "      <th></th>\n",
       "      <th></th>\n",
       "      <th></th>\n",
       "    </tr>\n",
       "  </thead>\n",
       "  <tbody>\n",
       "    <tr>\n",
       "      <th>2014-12-31</th>\n",
       "      <td>310.914001</td>\n",
       "      <td>320.192993</td>\n",
       "      <td>310.210999</td>\n",
       "      <td>320.192993</td>\n",
       "      <td>13942900</td>\n",
       "    </tr>\n",
       "    <tr>\n",
       "      <th>2015-01-01</th>\n",
       "      <td>320.434998</td>\n",
       "      <td>320.434998</td>\n",
       "      <td>314.002991</td>\n",
       "      <td>314.248993</td>\n",
       "      <td>8036550</td>\n",
       "    </tr>\n",
       "    <tr>\n",
       "      <th>2015-01-02</th>\n",
       "      <td>314.079010</td>\n",
       "      <td>315.838989</td>\n",
       "      <td>313.565002</td>\n",
       "      <td>315.032013</td>\n",
       "      <td>7860650</td>\n",
       "    </tr>\n",
       "    <tr>\n",
       "      <th>2015-01-03</th>\n",
       "      <td>314.846008</td>\n",
       "      <td>315.149994</td>\n",
       "      <td>281.082001</td>\n",
       "      <td>281.082001</td>\n",
       "      <td>33054400</td>\n",
       "    </tr>\n",
       "    <tr>\n",
       "      <th>2015-01-04</th>\n",
       "      <td>281.145996</td>\n",
       "      <td>287.230011</td>\n",
       "      <td>257.612000</td>\n",
       "      <td>264.195007</td>\n",
       "      <td>55629100</td>\n",
       "    </tr>\n",
       "    <tr>\n",
       "      <th>...</th>\n",
       "      <td>...</td>\n",
       "      <td>...</td>\n",
       "      <td>...</td>\n",
       "      <td>...</td>\n",
       "      <td>...</td>\n",
       "    </tr>\n",
       "    <tr>\n",
       "      <th>2020-12-26</th>\n",
       "      <td>24677.015625</td>\n",
       "      <td>26718.070312</td>\n",
       "      <td>24522.689453</td>\n",
       "      <td>26437.037109</td>\n",
       "      <td>48332647295</td>\n",
       "    </tr>\n",
       "    <tr>\n",
       "      <th>2020-12-27</th>\n",
       "      <td>26439.373047</td>\n",
       "      <td>28288.839844</td>\n",
       "      <td>25922.769531</td>\n",
       "      <td>26272.294922</td>\n",
       "      <td>66479895605</td>\n",
       "    </tr>\n",
       "    <tr>\n",
       "      <th>2020-12-28</th>\n",
       "      <td>26280.822266</td>\n",
       "      <td>27389.111328</td>\n",
       "      <td>26207.640625</td>\n",
       "      <td>27084.808594</td>\n",
       "      <td>49056742893</td>\n",
       "    </tr>\n",
       "    <tr>\n",
       "      <th>2020-12-29</th>\n",
       "      <td>27081.810547</td>\n",
       "      <td>27370.720703</td>\n",
       "      <td>25987.298828</td>\n",
       "      <td>27362.437500</td>\n",
       "      <td>45265946774</td>\n",
       "    </tr>\n",
       "    <tr>\n",
       "      <th>2020-12-30</th>\n",
       "      <td>27360.089844</td>\n",
       "      <td>28937.740234</td>\n",
       "      <td>27360.089844</td>\n",
       "      <td>28840.953125</td>\n",
       "      <td>51287442704</td>\n",
       "    </tr>\n",
       "  </tbody>\n",
       "</table>\n",
       "<p>2192 rows × 5 columns</p>\n",
       "</div>"
      ],
      "text/plain": [
       "                    Open          High           Low         Close  \\\n",
       "Date                                                                 \n",
       "2014-12-31    310.914001    320.192993    310.210999    320.192993   \n",
       "2015-01-01    320.434998    320.434998    314.002991    314.248993   \n",
       "2015-01-02    314.079010    315.838989    313.565002    315.032013   \n",
       "2015-01-03    314.846008    315.149994    281.082001    281.082001   \n",
       "2015-01-04    281.145996    287.230011    257.612000    264.195007   \n",
       "...                  ...           ...           ...           ...   \n",
       "2020-12-26  24677.015625  26718.070312  24522.689453  26437.037109   \n",
       "2020-12-27  26439.373047  28288.839844  25922.769531  26272.294922   \n",
       "2020-12-28  26280.822266  27389.111328  26207.640625  27084.808594   \n",
       "2020-12-29  27081.810547  27370.720703  25987.298828  27362.437500   \n",
       "2020-12-30  27360.089844  28937.740234  27360.089844  28840.953125   \n",
       "\n",
       "                 Volume  \n",
       "Date                     \n",
       "2014-12-31     13942900  \n",
       "2015-01-01      8036550  \n",
       "2015-01-02      7860650  \n",
       "2015-01-03     33054400  \n",
       "2015-01-04     55629100  \n",
       "...                 ...  \n",
       "2020-12-26  48332647295  \n",
       "2020-12-27  66479895605  \n",
       "2020-12-28  49056742893  \n",
       "2020-12-29  45265946774  \n",
       "2020-12-30  51287442704  \n",
       "\n",
       "[2192 rows x 5 columns]"
      ]
     },
     "execution_count": 2,
     "metadata": {},
     "output_type": "execute_result"
    }
   ],
   "source": [
    "df_1 = yf.download('BTC-USD', start = '2015-01-01', end = '2020-12-31')\n",
    "df_1 = df_1.drop(['Adj Close'], axis = 1)\n",
    "df_1"
   ]
  },
  {
   "cell_type": "code",
   "execution_count": 3,
   "id": "8b4717c4",
   "metadata": {},
   "outputs": [],
   "source": [
    "api_key = 'insert api key'\n",
    "secret_key = 'insert secret key'"
   ]
  },
  {
   "cell_type": "code",
   "execution_count": 4,
   "id": "7639640f",
   "metadata": {},
   "outputs": [],
   "source": [
    "client = Client(api_key = api_key, api_secret = secret_key)"
   ]
  },
  {
   "cell_type": "code",
   "execution_count": 5,
   "id": "81f35201",
   "metadata": {},
   "outputs": [],
   "source": [
    "# Creating a function to retrieve data based on symbol/pair and desired transactioning interval\n",
    "# it retrieves all available Binance information \n",
    "\n",
    "def get_history(symbol, interval, start = None, end = None):\n",
    "    \n",
    "    if start == None:\n",
    "        start = client._get_earliest_valid_timestamp(symbol=symbol, interval=interval)\n",
    "    else:\n",
    "        pass\n",
    "    bars = client.get_historical_klines(symbol=symbol, interval=interval,\n",
    "                                       start_str=start, end_str=end, limit = 1000)\n",
    "    \n",
    "    df = pd.DataFrame(bars)\n",
    "    df['Date'] = pd.to_datetime(df.iloc[:,0], unit='ms')\n",
    "    df.columns = ['Open Time','Open','High','Low','Close','Volume',\n",
    "                 'Close Time','Quote Asset Volume','Number of Trades',\n",
    "                 'Taker Buy Base Asset Volume','Taker Buy Quote Asset Volumne',\n",
    "                 'Ignore','Date']\n",
    "    \n",
    "    df = df[['Date','Open','High','Low','Close','Volume']].copy()\n",
    "    df.set_index('Date', inplace=True)\n",
    "    \n",
    "    for column in df.columns:\n",
    "        df[column] = pd.to_numeric(df[column], errors = 'coerce')\n",
    "        \n",
    "    return df"
   ]
  },
  {
   "cell_type": "code",
   "execution_count": 6,
   "id": "0eb145b6",
   "metadata": {},
   "outputs": [
    {
     "data": {
      "text/html": [
       "<div>\n",
       "<style scoped>\n",
       "    .dataframe tbody tr th:only-of-type {\n",
       "        vertical-align: middle;\n",
       "    }\n",
       "\n",
       "    .dataframe tbody tr th {\n",
       "        vertical-align: top;\n",
       "    }\n",
       "\n",
       "    .dataframe thead th {\n",
       "        text-align: right;\n",
       "    }\n",
       "</style>\n",
       "<table border=\"1\" class=\"dataframe\">\n",
       "  <thead>\n",
       "    <tr style=\"text-align: right;\">\n",
       "      <th></th>\n",
       "      <th>Open</th>\n",
       "      <th>High</th>\n",
       "      <th>Low</th>\n",
       "      <th>Close</th>\n",
       "      <th>Volume</th>\n",
       "    </tr>\n",
       "    <tr>\n",
       "      <th>Date</th>\n",
       "      <th></th>\n",
       "      <th></th>\n",
       "      <th></th>\n",
       "      <th></th>\n",
       "      <th></th>\n",
       "    </tr>\n",
       "  </thead>\n",
       "  <tbody>\n",
       "    <tr>\n",
       "      <th>2020-12-31</th>\n",
       "      <td>28875.55</td>\n",
       "      <td>29300.00</td>\n",
       "      <td>27850.00</td>\n",
       "      <td>28923.63</td>\n",
       "      <td>75508.505152</td>\n",
       "    </tr>\n",
       "    <tr>\n",
       "      <th>2021-01-01</th>\n",
       "      <td>28923.63</td>\n",
       "      <td>29600.00</td>\n",
       "      <td>28624.57</td>\n",
       "      <td>29331.69</td>\n",
       "      <td>54182.925011</td>\n",
       "    </tr>\n",
       "    <tr>\n",
       "      <th>2021-01-02</th>\n",
       "      <td>29331.70</td>\n",
       "      <td>33300.00</td>\n",
       "      <td>28946.53</td>\n",
       "      <td>32178.33</td>\n",
       "      <td>129993.873362</td>\n",
       "    </tr>\n",
       "    <tr>\n",
       "      <th>2021-01-03</th>\n",
       "      <td>32176.45</td>\n",
       "      <td>34778.11</td>\n",
       "      <td>31962.99</td>\n",
       "      <td>33000.05</td>\n",
       "      <td>120957.566750</td>\n",
       "    </tr>\n",
       "    <tr>\n",
       "      <th>2021-01-04</th>\n",
       "      <td>33000.05</td>\n",
       "      <td>33600.00</td>\n",
       "      <td>28130.00</td>\n",
       "      <td>31988.71</td>\n",
       "      <td>140899.885690</td>\n",
       "    </tr>\n",
       "    <tr>\n",
       "      <th>...</th>\n",
       "      <td>...</td>\n",
       "      <td>...</td>\n",
       "      <td>...</td>\n",
       "      <td>...</td>\n",
       "      <td>...</td>\n",
       "    </tr>\n",
       "    <tr>\n",
       "      <th>2022-05-19</th>\n",
       "      <td>28715.33</td>\n",
       "      <td>30545.18</td>\n",
       "      <td>28691.38</td>\n",
       "      <td>30319.23</td>\n",
       "      <td>67877.364150</td>\n",
       "    </tr>\n",
       "    <tr>\n",
       "      <th>2022-05-20</th>\n",
       "      <td>30319.22</td>\n",
       "      <td>30777.33</td>\n",
       "      <td>28730.00</td>\n",
       "      <td>29201.01</td>\n",
       "      <td>60517.253250</td>\n",
       "    </tr>\n",
       "    <tr>\n",
       "      <th>2022-05-21</th>\n",
       "      <td>29201.01</td>\n",
       "      <td>29656.18</td>\n",
       "      <td>28947.28</td>\n",
       "      <td>29445.06</td>\n",
       "      <td>20987.131240</td>\n",
       "    </tr>\n",
       "    <tr>\n",
       "      <th>2022-05-22</th>\n",
       "      <td>29445.07</td>\n",
       "      <td>30487.99</td>\n",
       "      <td>29255.11</td>\n",
       "      <td>30293.94</td>\n",
       "      <td>36158.987480</td>\n",
       "    </tr>\n",
       "    <tr>\n",
       "      <th>2022-05-23</th>\n",
       "      <td>30293.93</td>\n",
       "      <td>30670.51</td>\n",
       "      <td>30048.77</td>\n",
       "      <td>30448.21</td>\n",
       "      <td>17690.454760</td>\n",
       "    </tr>\n",
       "  </tbody>\n",
       "</table>\n",
       "<p>509 rows × 5 columns</p>\n",
       "</div>"
      ],
      "text/plain": [
       "                Open      High       Low     Close         Volume\n",
       "Date                                                             \n",
       "2020-12-31  28875.55  29300.00  27850.00  28923.63   75508.505152\n",
       "2021-01-01  28923.63  29600.00  28624.57  29331.69   54182.925011\n",
       "2021-01-02  29331.70  33300.00  28946.53  32178.33  129993.873362\n",
       "2021-01-03  32176.45  34778.11  31962.99  33000.05  120957.566750\n",
       "2021-01-04  33000.05  33600.00  28130.00  31988.71  140899.885690\n",
       "...              ...       ...       ...       ...            ...\n",
       "2022-05-19  28715.33  30545.18  28691.38  30319.23   67877.364150\n",
       "2022-05-20  30319.22  30777.33  28730.00  29201.01   60517.253250\n",
       "2022-05-21  29201.01  29656.18  28947.28  29445.06   20987.131240\n",
       "2022-05-22  29445.07  30487.99  29255.11  30293.94   36158.987480\n",
       "2022-05-23  30293.93  30670.51  30048.77  30448.21   17690.454760\n",
       "\n",
       "[509 rows x 5 columns]"
      ]
     },
     "execution_count": 6,
     "metadata": {},
     "output_type": "execute_result"
    }
   ],
   "source": [
    "# Example of generated dataframe using previously defined function\n",
    "\n",
    "df_2 = get_history('BTCUSDT', '1d', start='2020-12-31')\n",
    "df_2"
   ]
  },
  {
   "cell_type": "code",
   "execution_count": 8,
   "id": "d1a8d8e7",
   "metadata": {},
   "outputs": [
    {
     "data": {
      "text/html": [
       "<div>\n",
       "<style scoped>\n",
       "    .dataframe tbody tr th:only-of-type {\n",
       "        vertical-align: middle;\n",
       "    }\n",
       "\n",
       "    .dataframe tbody tr th {\n",
       "        vertical-align: top;\n",
       "    }\n",
       "\n",
       "    .dataframe thead th {\n",
       "        text-align: right;\n",
       "    }\n",
       "</style>\n",
       "<table border=\"1\" class=\"dataframe\">\n",
       "  <thead>\n",
       "    <tr style=\"text-align: right;\">\n",
       "      <th></th>\n",
       "      <th>Open</th>\n",
       "      <th>High</th>\n",
       "      <th>Low</th>\n",
       "      <th>Close</th>\n",
       "      <th>Volume</th>\n",
       "    </tr>\n",
       "    <tr>\n",
       "      <th>Date</th>\n",
       "      <th></th>\n",
       "      <th></th>\n",
       "      <th></th>\n",
       "      <th></th>\n",
       "      <th></th>\n",
       "    </tr>\n",
       "  </thead>\n",
       "  <tbody>\n",
       "    <tr>\n",
       "      <th>2014-12-31</th>\n",
       "      <td>310.914001</td>\n",
       "      <td>320.192993</td>\n",
       "      <td>310.210999</td>\n",
       "      <td>320.192993</td>\n",
       "      <td>1.394290e+07</td>\n",
       "    </tr>\n",
       "    <tr>\n",
       "      <th>2015-01-01</th>\n",
       "      <td>320.434998</td>\n",
       "      <td>320.434998</td>\n",
       "      <td>314.002991</td>\n",
       "      <td>314.248993</td>\n",
       "      <td>8.036550e+06</td>\n",
       "    </tr>\n",
       "    <tr>\n",
       "      <th>2015-01-02</th>\n",
       "      <td>314.079010</td>\n",
       "      <td>315.838989</td>\n",
       "      <td>313.565002</td>\n",
       "      <td>315.032013</td>\n",
       "      <td>7.860650e+06</td>\n",
       "    </tr>\n",
       "    <tr>\n",
       "      <th>2015-01-03</th>\n",
       "      <td>314.846008</td>\n",
       "      <td>315.149994</td>\n",
       "      <td>281.082001</td>\n",
       "      <td>281.082001</td>\n",
       "      <td>3.305440e+07</td>\n",
       "    </tr>\n",
       "    <tr>\n",
       "      <th>2015-01-04</th>\n",
       "      <td>281.145996</td>\n",
       "      <td>287.230011</td>\n",
       "      <td>257.612000</td>\n",
       "      <td>264.195007</td>\n",
       "      <td>5.562910e+07</td>\n",
       "    </tr>\n",
       "    <tr>\n",
       "      <th>...</th>\n",
       "      <td>...</td>\n",
       "      <td>...</td>\n",
       "      <td>...</td>\n",
       "      <td>...</td>\n",
       "      <td>...</td>\n",
       "    </tr>\n",
       "    <tr>\n",
       "      <th>2022-05-19</th>\n",
       "      <td>28715.330000</td>\n",
       "      <td>30545.180000</td>\n",
       "      <td>28691.380000</td>\n",
       "      <td>30319.230000</td>\n",
       "      <td>6.787736e+04</td>\n",
       "    </tr>\n",
       "    <tr>\n",
       "      <th>2022-05-20</th>\n",
       "      <td>30319.220000</td>\n",
       "      <td>30777.330000</td>\n",
       "      <td>28730.000000</td>\n",
       "      <td>29201.010000</td>\n",
       "      <td>6.051725e+04</td>\n",
       "    </tr>\n",
       "    <tr>\n",
       "      <th>2022-05-21</th>\n",
       "      <td>29201.010000</td>\n",
       "      <td>29656.180000</td>\n",
       "      <td>28947.280000</td>\n",
       "      <td>29445.060000</td>\n",
       "      <td>2.098713e+04</td>\n",
       "    </tr>\n",
       "    <tr>\n",
       "      <th>2022-05-22</th>\n",
       "      <td>29445.070000</td>\n",
       "      <td>30487.990000</td>\n",
       "      <td>29255.110000</td>\n",
       "      <td>30293.940000</td>\n",
       "      <td>3.615899e+04</td>\n",
       "    </tr>\n",
       "    <tr>\n",
       "      <th>2022-05-23</th>\n",
       "      <td>30293.930000</td>\n",
       "      <td>30670.510000</td>\n",
       "      <td>30048.770000</td>\n",
       "      <td>30448.210000</td>\n",
       "      <td>1.769045e+04</td>\n",
       "    </tr>\n",
       "  </tbody>\n",
       "</table>\n",
       "<p>2701 rows × 5 columns</p>\n",
       "</div>"
      ],
      "text/plain": [
       "                    Open          High           Low         Close  \\\n",
       "Date                                                                 \n",
       "2014-12-31    310.914001    320.192993    310.210999    320.192993   \n",
       "2015-01-01    320.434998    320.434998    314.002991    314.248993   \n",
       "2015-01-02    314.079010    315.838989    313.565002    315.032013   \n",
       "2015-01-03    314.846008    315.149994    281.082001    281.082001   \n",
       "2015-01-04    281.145996    287.230011    257.612000    264.195007   \n",
       "...                  ...           ...           ...           ...   \n",
       "2022-05-19  28715.330000  30545.180000  28691.380000  30319.230000   \n",
       "2022-05-20  30319.220000  30777.330000  28730.000000  29201.010000   \n",
       "2022-05-21  29201.010000  29656.180000  28947.280000  29445.060000   \n",
       "2022-05-22  29445.070000  30487.990000  29255.110000  30293.940000   \n",
       "2022-05-23  30293.930000  30670.510000  30048.770000  30448.210000   \n",
       "\n",
       "                  Volume  \n",
       "Date                      \n",
       "2014-12-31  1.394290e+07  \n",
       "2015-01-01  8.036550e+06  \n",
       "2015-01-02  7.860650e+06  \n",
       "2015-01-03  3.305440e+07  \n",
       "2015-01-04  5.562910e+07  \n",
       "...                  ...  \n",
       "2022-05-19  6.787736e+04  \n",
       "2022-05-20  6.051725e+04  \n",
       "2022-05-21  2.098713e+04  \n",
       "2022-05-22  3.615899e+04  \n",
       "2022-05-23  1.769045e+04  \n",
       "\n",
       "[2701 rows x 5 columns]"
      ]
     },
     "execution_count": 8,
     "metadata": {},
     "output_type": "execute_result"
    }
   ],
   "source": [
    "df = pd.concat([df_1, df_2], axis=0)\n",
    "df"
   ]
  },
  {
   "cell_type": "code",
   "execution_count": 10,
   "id": "34925af1",
   "metadata": {},
   "outputs": [],
   "source": [
    "df = df[:-6]"
   ]
  },
  {
   "cell_type": "code",
   "execution_count": 39,
   "id": "8ed854e8",
   "metadata": {},
   "outputs": [
    {
     "data": {
      "image/png": "[encoded data removed]",
      "text/plain": [
       "<Figure size 1080x576 with 1 Axes>"
      ]
     },
     "metadata": {},
     "output_type": "display_data"
    }
   ],
   "source": [
    "plt.figure(figsize=(15,8))\n",
    "df['Close'].plot()\n",
    "plt.show()"
   ]
  },
  {
   "cell_type": "code",
   "execution_count": 11,
   "id": "ae9f0bfa",
   "metadata": {},
   "outputs": [],
   "source": [
    "test_period = 90 \n",
    "train_data = pd.DataFrame(df.Close[:len(df) - test_period])\n",
    "test_data = pd.DataFrame(df.Close[len(df) - test_period:])"
   ]
  },
  {
   "cell_type": "code",
   "execution_count": 12,
   "id": "be5a41d8",
   "metadata": {},
   "outputs": [
    {
     "data": {
      "text/plain": [
       "Date\n",
       "2014-12-31      320.192993\n",
       "2015-01-01      314.248993\n",
       "2015-01-02      315.032013\n",
       "2015-01-03      281.082001\n",
       "2015-01-04      264.195007\n",
       "                  ...     \n",
       "2022-02-12    42217.870000\n",
       "2022-02-13    42053.660000\n",
       "2022-02-14    42535.940000\n",
       "2022-02-15    44544.860000\n",
       "2022-02-16    43873.560000\n",
       "Name: Close, Length: 2605, dtype: float64"
      ]
     },
     "execution_count": 12,
     "metadata": {},
     "output_type": "execute_result"
    }
   ],
   "source": [
    "df.Close[:len(df) - test_period]"
   ]
  },
  {
   "cell_type": "code",
   "execution_count": null,
   "id": "f7590833",
   "metadata": {},
   "outputs": [],
   "source": [
    "df.Close[len(df) - test_period:]"
   ]
  },
  {
   "cell_type": "code",
   "execution_count": null,
   "id": "d6728179",
   "metadata": {},
   "outputs": [],
   "source": [
    "df[-90:]"
   ]
  },
  {
   "cell_type": "code",
   "execution_count": null,
   "id": "8517756d",
   "metadata": {},
   "outputs": [],
   "source": [
    "df"
   ]
  },
  {
   "cell_type": "code",
   "execution_count": 13,
   "id": "080c4674",
   "metadata": {},
   "outputs": [],
   "source": [
    "first_to_scale = train_data.iloc[0:840,:]\n",
    "second_to_scale = train_data.iloc[840:2192,:]\n",
    "third_to_scale = train_data.iloc[2192:,:]"
   ]
  },
  {
   "cell_type": "code",
   "execution_count": null,
   "id": "85d190c3",
   "metadata": {},
   "outputs": [],
   "source": [
    "third_to_scale"
   ]
  },
  {
   "cell_type": "code",
   "execution_count": 14,
   "id": "c88c6cf6",
   "metadata": {},
   "outputs": [],
   "source": [
    "# Scaling separately based on trend\n",
    "\n",
    "scaler = MinMaxScaler()\n",
    "scaler.fit(first_to_scale)\n",
    "train_data.iloc[0:840,:] = scaler.transform(first_to_scale)\n",
    "scaler.fit(second_to_scale)\n",
    "train_data.iloc[840:2192,:] = scaler.transform(second_to_scale)\n",
    "scaler.fit(third_to_scale)\n",
    "train_data.iloc[2192:,:] = scaler.transform(third_to_scale)"
   ]
  },
  {
   "cell_type": "code",
   "execution_count": 37,
   "id": "c02ac730",
   "metadata": {},
   "outputs": [],
   "source": [
    "# Save scaler to use on future data\n",
    "\n",
    "# dump(scaler, open('scaler.pkl', 'wb'))"
   ]
  },
  {
   "cell_type": "code",
   "execution_count": 15,
   "id": "45c1df55",
   "metadata": {},
   "outputs": [],
   "source": [
    "test_data = scaler.transform(test_data)"
   ]
  },
  {
   "cell_type": "code",
   "execution_count": 16,
   "id": "7bf4c2db",
   "metadata": {},
   "outputs": [
    {
     "data": {
      "text/plain": [
       "array([[0.12953932],\n",
       "       [0.12412035],\n",
       "       [0.12483421],\n",
       "       ...,\n",
       "       [0.35263042],\n",
       "       [0.40467201],\n",
       "       [0.38728181]])"
      ]
     },
     "execution_count": 16,
     "metadata": {},
     "output_type": "execute_result"
    }
   ],
   "source": [
    "train_data = train_data.values.reshape(-1,1)\n",
    "train_data"
   ]
  },
  {
   "cell_type": "code",
   "execution_count": 17,
   "id": "d8f41739",
   "metadata": {},
   "outputs": [
    {
     "name": "stdout",
     "output_type": "stream",
     "text": [
      "trainX shape == (2593, 12, 1).\n",
      "trainY shape == (2593, 1).\n",
      "<class 'numpy.ndarray'>\n"
     ]
    }
   ],
   "source": [
    "trainX = []\n",
    "trainY = []\n",
    "\n",
    "n_future = 1 #Numarul de zile pe care vrem sa-l prezicem in viitor\n",
    "n_past = 12 #Numarul de zile pe care il folosim pentru predictie\n",
    "\n",
    "#print(DatasetTrainingScaled.shape)\n",
    "\n",
    "for i in range(n_past, len(train_data)-n_future+1):\n",
    "    trainX.append(train_data[i - n_past:i, 0:train_data.shape[1]])\n",
    "    trainY.append(train_data[i + n_future - 1:i + n_future, 0])\n",
    "\n",
    "trainX, trainY = np.array(trainX), np.array(trainY)\n",
    "print('trainX shape == {}.'.format(trainX.shape))\n",
    "print('trainY shape == {}.'.format(trainY.shape))\n",
    "print(type(trainX))"
   ]
  },
  {
   "cell_type": "code",
   "execution_count": 18,
   "id": "57e2cc95",
   "metadata": {},
   "outputs": [],
   "source": [
    "# define model\n",
    "\n",
    "model = Sequential()\n",
    "model.add(LSTM(200, activation='tanh', input_shape=(trainX.shape[1], trainX.shape[2]), return_sequences = True))\n",
    "model.add(Dropout(0.2))\n",
    "model.add(LSTM(150, activation = 'tanh', return_sequences = True))\n",
    "model.add(Dropout(0.2))\n",
    "model.add(LSTM(100, activation = 'tanh', return_sequences = False))\n",
    "model.add(Dropout(0.2))\n",
    "model.add(Dense(trainY.shape[1]))\n",
    "model.compile(optimizer='adam', loss='mse')"
   ]
  },
  {
   "cell_type": "code",
   "execution_count": 19,
   "id": "f82aec5c",
   "metadata": {},
   "outputs": [
    {
     "name": "stdout",
     "output_type": "stream",
     "text": [
      "Model: \"sequential\"\n",
      "_________________________________________________________________\n",
      "Layer (type)                 Output Shape              Param #   \n",
      "=================================================================\n",
      "lstm (LSTM)                  (None, 12, 200)           161600    \n",
      "_________________________________________________________________\n",
      "dropout (Dropout)            (None, 12, 200)           0         \n",
      "_________________________________________________________________\n",
      "lstm_1 (LSTM)                (None, 12, 150)           210600    \n",
      "_________________________________________________________________\n",
      "dropout_1 (Dropout)          (None, 12, 150)           0         \n",
      "_________________________________________________________________\n",
      "lstm_2 (LSTM)                (None, 100)               100400    \n",
      "_________________________________________________________________\n",
      "dropout_2 (Dropout)          (None, 100)               0         \n",
      "_________________________________________________________________\n",
      "dense (Dense)                (None, 1)                 101       \n",
      "=================================================================\n",
      "Total params: 472,701\n",
      "Trainable params: 472,701\n",
      "Non-trainable params: 0\n",
      "_________________________________________________________________\n"
     ]
    }
   ],
   "source": [
    "model.summary()"
   ]
  },
  {
   "cell_type": "code",
   "execution_count": 20,
   "id": "7e903dc3",
   "metadata": {},
   "outputs": [
    {
     "name": "stdout",
     "output_type": "stream",
     "text": [
      "Epoch 1/50\n",
      "104/104 [==============================] - 3s 24ms/step - loss: 0.0111\n",
      "Epoch 2/50\n",
      "104/104 [==============================] - 3s 27ms/step - loss: 0.0060\n",
      "Epoch 3/50\n",
      "104/104 [==============================] - 3s 25ms/step - loss: 0.0055\n",
      "Epoch 4/50\n",
      "104/104 [==============================] - 3s 27ms/step - loss: 0.0042\n",
      "Epoch 5/50\n",
      "104/104 [==============================] - 3s 29ms/step - loss: 0.0041\n",
      "Epoch 6/50\n",
      "104/104 [==============================] - 3s 27ms/step - loss: 0.0035\n",
      "Epoch 7/50\n",
      "104/104 [==============================] - 3s 27ms/step - loss: 0.0030\n",
      "Epoch 8/50\n",
      "104/104 [==============================] - 3s 27ms/step - loss: 0.0028\n",
      "Epoch 9/50\n",
      "104/104 [==============================] - 3s 27ms/step - loss: 0.0026\n",
      "Epoch 10/50\n",
      "104/104 [==============================] - 3s 27ms/step - loss: 0.0024\n",
      "Epoch 11/50\n",
      "104/104 [==============================] - 3s 27ms/step - loss: 0.0029\n",
      "Epoch 12/50\n",
      "104/104 [==============================] - 3s 27ms/step - loss: 0.0024\n",
      "Epoch 13/50\n",
      "104/104 [==============================] - 3s 29ms/step - loss: 0.0022\n",
      "Epoch 14/50\n",
      "104/104 [==============================] - 3s 28ms/step - loss: 0.0022\n",
      "Epoch 15/50\n",
      "104/104 [==============================] - 3s 28ms/step - loss: 0.0024\n",
      "Epoch 16/50\n",
      "104/104 [==============================] - 3s 28ms/step - loss: 0.0024\n",
      "Epoch 17/50\n",
      "104/104 [==============================] - 3s 28ms/step - loss: 0.0020\n",
      "Epoch 18/50\n",
      "104/104 [==============================] - 3s 29ms/step - loss: 0.0023\n",
      "Epoch 19/50\n",
      "104/104 [==============================] - 3s 29ms/step - loss: 0.0022\n",
      "Epoch 20/50\n",
      "104/104 [==============================] - 3s 28ms/step - loss: 0.0020\n",
      "Epoch 21/50\n",
      "104/104 [==============================] - 3s 29ms/step - loss: 0.0021\n",
      "Epoch 22/50\n",
      "104/104 [==============================] - 3s 28ms/step - loss: 0.0019\n",
      "Epoch 23/50\n",
      "104/104 [==============================] - 3s 30ms/step - loss: 0.0022\n",
      "Epoch 24/50\n",
      "104/104 [==============================] - 3s 29ms/step - loss: 0.0020\n",
      "Epoch 25/50\n",
      "104/104 [==============================] - 3s 30ms/step - loss: 0.0020\n",
      "Epoch 26/50\n",
      "104/104 [==============================] - 3s 30ms/step - loss: 0.0020\n",
      "Epoch 27/50\n",
      "104/104 [==============================] - 3s 29ms/step - loss: 0.0021\n",
      "Epoch 28/50\n",
      "104/104 [==============================] - 3s 29ms/step - loss: 0.0023\n",
      "Epoch 29/50\n",
      "104/104 [==============================] - 3s 30ms/step - loss: 0.0019\n",
      "Epoch 30/50\n",
      "104/104 [==============================] - 3s 29ms/step - loss: 0.0019\n",
      "Epoch 31/50\n",
      "104/104 [==============================] - 3s 30ms/step - loss: 0.0019\n",
      "Epoch 32/50\n",
      "104/104 [==============================] - 3s 31ms/step - loss: 0.0022\n",
      "Epoch 33/50\n",
      "104/104 [==============================] - 3s 31ms/step - loss: 0.0019\n",
      "Epoch 34/50\n",
      "104/104 [==============================] - 3s 30ms/step - loss: 0.0018\n",
      "Epoch 35/50\n",
      "104/104 [==============================] - 4s 34ms/step - loss: 0.0019\n",
      "Epoch 36/50\n",
      "104/104 [==============================] - 3s 33ms/step - loss: 0.0024\n",
      "Epoch 37/50\n",
      "104/104 [==============================] - 3s 31ms/step - loss: 0.0017\n",
      "Epoch 38/50\n",
      "104/104 [==============================] - 3s 30ms/step - loss: 0.0018\n",
      "Epoch 39/50\n",
      "104/104 [==============================] - 3s 29ms/step - loss: 0.0020\n",
      "Epoch 40/50\n",
      "104/104 [==============================] - 3s 32ms/step - loss: 0.0019\n",
      "Epoch 41/50\n",
      "104/104 [==============================] - 3s 34ms/step - loss: 0.0021\n",
      "Epoch 42/50\n",
      "104/104 [==============================] - 3s 30ms/step - loss: 0.0018\n",
      "Epoch 43/50\n",
      "104/104 [==============================] - 3s 30ms/step - loss: 0.0020\n",
      "Epoch 44/50\n",
      "104/104 [==============================] - 3s 31ms/step - loss: 0.0019\n",
      "Epoch 45/50\n",
      "104/104 [==============================] - 3s 31ms/step - loss: 0.0018\n",
      "Epoch 46/50\n",
      "104/104 [==============================] - 3s 31ms/step - loss: 0.0018\n",
      "Epoch 47/50\n",
      "104/104 [==============================] - 3s 31ms/step - loss: 0.0018\n",
      "Epoch 48/50\n",
      "104/104 [==============================] - 3s 31ms/step - loss: 0.0019: 0s - lo\n",
      "Epoch 49/50\n",
      "104/104 [==============================] - 3s 32ms/step - loss: 0.0017\n",
      "Epoch 50/50\n",
      "104/104 [==============================] - 3s 31ms/step - loss: 0.0019\n"
     ]
    },
    {
     "data": {
      "text/plain": [
       "<tensorflow.python.keras.callbacks.History at 0x173913ce4f0>"
      ]
     },
     "execution_count": 20,
     "metadata": {},
     "output_type": "execute_result"
    }
   ],
   "source": [
    "model.fit(trainX, trainY,epochs=50, batch_size=25)"
   ]
  },
  {
   "cell_type": "code",
   "execution_count": 21,
   "id": "7e23accf",
   "metadata": {
    "scrolled": true
   },
   "outputs": [
    {
     "data": {
      "text/plain": [
       "[<matplotlib.lines.Line2D at 0x1739ca1c160>]"
      ]
     },
     "execution_count": 21,
     "metadata": {},
     "output_type": "execute_result"
    },
    {
     "data": {
      "image/png": "[encoded data removed]",
      "text/plain": [
       "<Figure size 576x396 with 1 Axes>"
      ]
     },
     "metadata": {},
     "output_type": "display_data"
    }
   ],
   "source": [
    "loss_per_epoch = model.history.history['loss']\n",
    "plt.plot(range(len(loss_per_epoch)),loss_per_epoch)"
   ]
  },
  {
   "cell_type": "code",
   "execution_count": null,
   "id": "c6bc58cf",
   "metadata": {},
   "outputs": [],
   "source": [
    "# train_data_reorg = []\n",
    "# test_data_reorg = []\n",
    "\n",
    "# for i in range(len(train_data)):\n",
    "#     train_data_reorg.append(train_data[i].item())\n",
    "\n",
    "# for i in range(len(test_data)):\n",
    "#     test_data_reorg.append(test_data[i].item())"
   ]
  },
  {
   "cell_type": "code",
   "execution_count": null,
   "id": "283ee5ad",
   "metadata": {},
   "outputs": [],
   "source": [
    "# inputs = pd.concat((pd.Series(train_data_reorg), pd.Series(test_data_reorg)), axis=0)\n",
    "# inputs = inputs[len(inputs) - len(test_data_reorg)-12:]"
   ]
  },
  {
   "cell_type": "code",
   "execution_count": 1,
   "id": "dcad45d0",
   "metadata": {},
   "outputs": [
    {
     "ename": "NameError",
     "evalue": "name 'np' is not defined",
     "output_type": "error",
     "traceback": [
      "\u001b[1;31m---------------------------------------------------------------------------\u001b[0m",
      "\u001b[1;31mNameError\u001b[0m                                 Traceback (most recent call last)",
      "\u001b[1;32m<ipython-input-1-1fe99d91b048>\u001b[0m in \u001b[0;36m<module>\u001b[1;34m\u001b[0m\n\u001b[1;32m----> 1\u001b[1;33m \u001b[0minputs\u001b[0m \u001b[1;33m=\u001b[0m \u001b[0mnp\u001b[0m\u001b[1;33m.\u001b[0m\u001b[0mconcatenate\u001b[0m\u001b[1;33m(\u001b[0m\u001b[1;33m(\u001b[0m\u001b[0mtrain_data\u001b[0m\u001b[1;33m,\u001b[0m \u001b[0mtest_data\u001b[0m\u001b[1;33m)\u001b[0m\u001b[1;33m,\u001b[0m \u001b[0maxis\u001b[0m\u001b[1;33m=\u001b[0m\u001b[1;36m0\u001b[0m\u001b[1;33m)\u001b[0m\u001b[1;33m\u001b[0m\u001b[1;33m\u001b[0m\u001b[0m\n\u001b[0m\u001b[0;32m      2\u001b[0m \u001b[0minputs\u001b[0m \u001b[1;33m=\u001b[0m \u001b[0minputs\u001b[0m\u001b[1;33m[\u001b[0m\u001b[0mlen\u001b[0m\u001b[1;33m(\u001b[0m\u001b[0minputs\u001b[0m\u001b[1;33m)\u001b[0m \u001b[1;33m-\u001b[0m \u001b[0mlen\u001b[0m\u001b[1;33m(\u001b[0m\u001b[0mtest_data\u001b[0m\u001b[1;33m)\u001b[0m\u001b[1;33m-\u001b[0m\u001b[1;36m12\u001b[0m\u001b[1;33m:\u001b[0m\u001b[1;33m]\u001b[0m\u001b[1;33m\u001b[0m\u001b[1;33m\u001b[0m\u001b[0m\n",
      "\u001b[1;31mNameError\u001b[0m: name 'np' is not defined"
     ]
    }
   ],
   "source": [
    "inputs = np.concatenate((train_data, test_data), axis=0)\n",
    "inputs = inputs[len(inputs) - len(test_data)-12:]"
   ]
  },
  {
   "cell_type": "code",
   "execution_count": 23,
   "id": "fb51fb0e",
   "metadata": {},
   "outputs": [
    {
     "name": "stdout",
     "output_type": "stream",
     "text": [
      "[[[0.32275259]\n",
      "  [0.34861329]\n",
      "  [0.38641217]\n",
      "  ...\n",
      "  [0.35263042]\n",
      "  [0.40467201]\n",
      "  [0.38728181]]\n",
      "\n",
      " [[0.34861329]\n",
      "  [0.38641217]\n",
      "  [0.39167094]\n",
      "  ...\n",
      "  [0.40467201]\n",
      "  [0.38728181]\n",
      "  [0.30029558]]\n",
      "\n",
      " [[0.38641217]\n",
      "  [0.39167094]\n",
      "  [0.40021268]\n",
      "  ...\n",
      "  [0.38728181]\n",
      "  [0.30029558]\n",
      "  [0.2862741 ]]\n",
      "\n",
      " ...\n",
      "\n",
      " [[0.2281041 ]\n",
      "  [0.27890561]\n",
      "  [0.19764003]\n",
      "  ...\n",
      "  [0.00274907]\n",
      "  [0.00941449]\n",
      "  [0.03013067]]\n",
      "\n",
      " [[0.27890561]\n",
      "  [0.19764003]\n",
      "  [0.18367192]\n",
      "  ...\n",
      "  [0.00941449]\n",
      "  [0.03013067]\n",
      "  [0.06230888]]\n",
      "\n",
      " [[0.19764003]\n",
      "  [0.18367192]\n",
      "  [0.16964733]\n",
      "  ...\n",
      "  [0.03013067]\n",
      "  [0.06230888]\n",
      "  [0.02461984]]]\n"
     ]
    }
   ],
   "source": [
    "x_test = []\n",
    "for i in range (n_past, len(inputs) - n_future + 1):\n",
    "    x_test.append(inputs[i-n_past:i])\n",
    "\n",
    "x_test = np.array(x_test)\n",
    "print(x_test)"
   ]
  },
  {
   "cell_type": "code",
   "execution_count": 24,
   "id": "5093fff1",
   "metadata": {},
   "outputs": [],
   "source": [
    "predicted_price = model.predict(x_test)"
   ]
  },
  {
   "cell_type": "code",
   "execution_count": 25,
   "id": "ca52fcb4",
   "metadata": {},
   "outputs": [],
   "source": [
    "predicted_price_usd = scaler.inverse_transform(predicted_price)"
   ]
  },
  {
   "cell_type": "code",
   "execution_count": 26,
   "id": "f95d9c1b",
   "metadata": {},
   "outputs": [],
   "source": [
    "true = scaler.inverse_transform(test_data)"
   ]
  },
  {
   "cell_type": "code",
   "execution_count": 27,
   "id": "def5e858",
   "metadata": {},
   "outputs": [],
   "source": [
    "predictions = []\n",
    "true_values = []\n",
    "\n",
    "for i in range(len(true)):\n",
    "    predictions.append(predicted_price_usd[i].item())\n",
    "    true_values.append(true[i].item())"
   ]
  },
  {
   "cell_type": "code",
   "execution_count": 28,
   "id": "1401dd5f",
   "metadata": {},
   "outputs": [
    {
     "data": {
      "text/html": [
       "<div>\n",
       "<style scoped>\n",
       "    .dataframe tbody tr th:only-of-type {\n",
       "        vertical-align: middle;\n",
       "    }\n",
       "\n",
       "    .dataframe tbody tr th {\n",
       "        vertical-align: top;\n",
       "    }\n",
       "\n",
       "    .dataframe thead th {\n",
       "        text-align: right;\n",
       "    }\n",
       "</style>\n",
       "<table border=\"1\" class=\"dataframe\">\n",
       "  <thead>\n",
       "    <tr style=\"text-align: right;\">\n",
       "      <th></th>\n",
       "      <th>true</th>\n",
       "      <th>pred</th>\n",
       "    </tr>\n",
       "  </thead>\n",
       "  <tbody>\n",
       "    <tr>\n",
       "      <th>0</th>\n",
       "      <td>40515.70</td>\n",
       "      <td>43927.960938</td>\n",
       "    </tr>\n",
       "    <tr>\n",
       "      <th>1</th>\n",
       "      <td>39974.44</td>\n",
       "      <td>40962.304688</td>\n",
       "    </tr>\n",
       "    <tr>\n",
       "      <th>2</th>\n",
       "      <td>40079.17</td>\n",
       "      <td>40240.824219</td>\n",
       "    </tr>\n",
       "    <tr>\n",
       "      <th>3</th>\n",
       "      <td>38386.89</td>\n",
       "      <td>40159.062500</td>\n",
       "    </tr>\n",
       "    <tr>\n",
       "      <th>4</th>\n",
       "      <td>37008.16</td>\n",
       "      <td>38637.089844</td>\n",
       "    </tr>\n",
       "    <tr>\n",
       "      <th>...</th>\n",
       "      <td>...</td>\n",
       "      <td>...</td>\n",
       "    </tr>\n",
       "    <tr>\n",
       "      <th>85</th>\n",
       "      <td>29287.05</td>\n",
       "      <td>28920.400391</td>\n",
       "    </tr>\n",
       "    <tr>\n",
       "      <th>86</th>\n",
       "      <td>30086.74</td>\n",
       "      <td>29120.570312</td>\n",
       "    </tr>\n",
       "    <tr>\n",
       "      <th>87</th>\n",
       "      <td>31328.89</td>\n",
       "      <td>29921.617188</td>\n",
       "    </tr>\n",
       "    <tr>\n",
       "      <th>88</th>\n",
       "      <td>29874.01</td>\n",
       "      <td>31190.279297</td>\n",
       "    </tr>\n",
       "    <tr>\n",
       "      <th>89</th>\n",
       "      <td>30444.93</td>\n",
       "      <td>30153.408203</td>\n",
       "    </tr>\n",
       "  </tbody>\n",
       "</table>\n",
       "<p>90 rows × 2 columns</p>\n",
       "</div>"
      ],
      "text/plain": [
       "        true          pred\n",
       "0   40515.70  43927.960938\n",
       "1   39974.44  40962.304688\n",
       "2   40079.17  40240.824219\n",
       "3   38386.89  40159.062500\n",
       "4   37008.16  38637.089844\n",
       "..       ...           ...\n",
       "85  29287.05  28920.400391\n",
       "86  30086.74  29120.570312\n",
       "87  31328.89  29921.617188\n",
       "88  29874.01  31190.279297\n",
       "89  30444.93  30153.408203\n",
       "\n",
       "[90 rows x 2 columns]"
      ]
     },
     "execution_count": 28,
     "metadata": {},
     "output_type": "execute_result"
    }
   ],
   "source": [
    "diff = pd.DataFrame({'true': true_values, 'pred':predictions})\n",
    "diff"
   ]
  },
  {
   "cell_type": "code",
   "execution_count": 29,
   "id": "e0b9b706",
   "metadata": {},
   "outputs": [
    {
     "data": {
      "text/plain": [
       "<AxesSubplot:>"
      ]
     },
     "execution_count": 29,
     "metadata": {},
     "output_type": "execute_result"
    },
    {
     "data": {
      "image/png": "[encoded data removed]",
      "text/plain": [
       "<Figure size 1008x360 with 1 Axes>"
      ]
     },
     "metadata": {},
     "output_type": "display_data"
    }
   ],
   "source": [
    "diff.plot(figsize=(14,5))"
   ]
  },
  {
   "cell_type": "code",
   "execution_count": 38,
   "id": "d418f706",
   "metadata": {},
   "outputs": [],
   "source": [
    "# save model for later use\n",
    "\n",
    "# model.save('bitcoin_model.h5')"
   ]
  },
  {
   "cell_type": "code",
   "execution_count": 30,
   "id": "f9f40584",
   "metadata": {},
   "outputs": [
    {
     "name": "stdout",
     "output_type": "stream",
     "text": [
      "1435.1806942000364\n"
     ]
    }
   ],
   "source": [
    "rmse = np.sqrt(mean_squared_error(diff['true'],diff['pred']))\n",
    "print(rmse)"
   ]
  },
  {
   "cell_type": "code",
   "execution_count": 31,
   "id": "615b1b1a",
   "metadata": {},
   "outputs": [
    {
     "name": "stdout",
     "output_type": "stream",
     "text": [
      "1073.8975503472222\n"
     ]
    }
   ],
   "source": [
    "mae = mean_absolute_error(diff['true'],diff['pred'])\n",
    "print(mae)"
   ]
  },
  {
   "cell_type": "code",
   "execution_count": 34,
   "id": "6e038919",
   "metadata": {},
   "outputs": [],
   "source": [
    "performance = model.predict(inputs[-12:].reshape(1,12,1))"
   ]
  },
  {
   "cell_type": "code",
   "execution_count": 35,
   "id": "8a0a4da9",
   "metadata": {},
   "outputs": [
    {
     "data": {
      "text/plain": [
       "array([[30514.14]], dtype=float32)"
      ]
     },
     "execution_count": 35,
     "metadata": {},
     "output_type": "execute_result"
    }
   ],
   "source": [
    "scaler.inverse_transform(performance)"
   ]
  },
  {
   "cell_type": "code",
   "execution_count": null,
   "id": "27ffdaf9",
   "metadata": {},
   "outputs": [],
   "source": []
  }
 ],
 "metadata": {
  "kernelspec": {
   "display_name": "Python 3",
   "language": "python",
   "name": "python3"
  },
  "language_info": {
   "codemirror_mode": {
    "name": "ipython",
    "version": 3
   },
   "file_extension": ".py",
   "mimetype": "text/x-python",
   "name": "python",
   "nbconvert_exporter": "python",
   "pygments_lexer": "ipython3",
   "version": "3.8.8"
  }
 },
 "nbformat": 4,
 "nbformat_minor": 5
}
